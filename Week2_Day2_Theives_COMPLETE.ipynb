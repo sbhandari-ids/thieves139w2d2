{
 "cells": [
  {
   "cell_type": "markdown",
   "metadata": {},
   "source": [
    "# Functions, Scoping, Data Collections 1 & List Comprehensions"
   ]
  },
  {
   "attachments": {},
   "cell_type": "markdown",
   "metadata": {},
   "source": [
    "## Tasks Today:\n",
    "\n",
    "1) String Manipulation <br>\n",
    " &nbsp;&nbsp;&nbsp;&nbsp; a) strip() <br>\n",
    " &nbsp;&nbsp;&nbsp;&nbsp; b) title() <br>\n",
    "1) Working With Lists <br>\n",
    " &nbsp;&nbsp;&nbsp;&nbsp; a) min() <br>\n",
    " &nbsp;&nbsp;&nbsp;&nbsp; b) max() <br>\n",
    " &nbsp;&nbsp;&nbsp;&nbsp; c) sum() <br>\n",
    " &nbsp;&nbsp;&nbsp;&nbsp; d) sort() <br>\n",
    " &nbsp;&nbsp;&nbsp;&nbsp; e) Copying a List <br>\n",
    " &nbsp;&nbsp;&nbsp;&nbsp; i) Checking an Empty List <br>\n",
    " &nbsp;&nbsp;&nbsp;&nbsp; j) Removing Instances with a Loop <br>\n",
    "1) List Comprehensions <br>\n",
    "2) Tuples <br>\n",
    " &nbsp;&nbsp;&nbsp;&nbsp; a) sorted() <br>\n",
    "1) Functions <br>\n",
    " &nbsp;&nbsp;&nbsp;&nbsp; a) User-Defined vs. Built-In Functions <br>\n",
    " &nbsp;&nbsp;&nbsp;&nbsp; b) Accepting Parameters <br>\n",
    " &nbsp;&nbsp;&nbsp;&nbsp; c) Default Parameters <br>\n",
    " &nbsp;&nbsp;&nbsp;&nbsp; d) Making an Argument Optional <br>\n",
    " &nbsp;&nbsp;&nbsp;&nbsp; e) Keyword Arguments <br>\n",
    " &nbsp;&nbsp;&nbsp;&nbsp; f) Returning Values <br>\n",
    " &nbsp;&nbsp;&nbsp;&nbsp; g) *args & **kwargs<br>\n",
    " &nbsp;&nbsp;&nbsp;&nbsp; h) Docstring <br>\n",
    " &nbsp;&nbsp;&nbsp;&nbsp; i) Using a User Function in a Loop <br>\n",
    "1) Scope"
   ]
  },
  {
   "cell_type": "markdown",
   "metadata": {},
   "source": [
    "### String Manipulation"
   ]
  },
  {
   "attachments": {},
   "cell_type": "markdown",
   "metadata": {},
   "source": [
    "##### .lstrip() - Remove spaces on the left side of the string"
   ]
  },
  {
   "cell_type": "code",
   "execution_count": 6,
   "metadata": {},
   "outputs": [
    {
     "name": "stdout",
     "output_type": "stream",
     "text": [
      "   @#$%  !   @%#$    thieves\n",
      "!   @%#$    thieves\n"
     ]
    }
   ],
   "source": [
    "# string.lstrip()\n",
    "# can pass argument to specify what characters to strip \n",
    "\n",
    "thieves = '   @#$%  !   @%#$    thieves'\n",
    "\n",
    "print(thieves)\n",
    "\n",
    "print(thieves.lstrip(' @#$%'))\n"
   ]
  },
  {
   "attachments": {},
   "cell_type": "markdown",
   "metadata": {},
   "source": [
    "##### .rstrip() - Remove spaces on the right side of the string"
   ]
  },
  {
   "cell_type": "code",
   "execution_count": 7,
   "metadata": {},
   "outputs": [
    {
     "name": "stdout",
     "output_type": "stream",
     "text": [
      "thieves   @#$%     @%#$    \n",
      "thieves\n"
     ]
    }
   ],
   "source": [
    "# string.rstrip()\n",
    "thieves = 'thieves   @#$%     @%#$    '\n",
    "\n",
    "print(thieves)\n",
    "\n",
    "print(thieves.rstrip(' @#$%'))"
   ]
  },
  {
   "attachments": {},
   "cell_type": "markdown",
   "metadata": {},
   "source": [
    "##### .strip() - Remove spaces at the beginning and at the end of the string"
   ]
  },
  {
   "cell_type": "code",
   "execution_count": 10,
   "metadata": {},
   "outputs": [
    {
     "name": "stdout",
     "output_type": "stream",
     "text": [
      "   @#$%   thieves  @%#$    thieves   @#$%   thieves  @%#$    \n",
      "eves  @%#$    thieves   @#$%   thieves\n"
     ]
    }
   ],
   "source": [
    "# string.strip()\n",
    "thieves = '   @#$%   thieves  @%#$    thieves   @#$%   thieves  @%#$    '\n",
    "\n",
    "print(thieves)\n",
    "\n",
    "print(thieves.strip(' @#$%thi'))"
   ]
  },
  {
   "attachments": {},
   "cell_type": "markdown",
   "metadata": {},
   "source": [
    "##### .title() - returns a string where the first character in every word is upper case"
   ]
  },
  {
   "cell_type": "code",
   "execution_count": 13,
   "metadata": {},
   "outputs": [
    {
     "name": "stdout",
     "output_type": "stream",
     "text": [
      "Hello Thieves Welcome To Python Week\n",
      "HELLO THIEVES WELCOME TO PYTHON WEEK\n",
      "hello thieves welcome to python week\n"
     ]
    }
   ],
   "source": [
    "# string.title()\n",
    "\n",
    "greeting = 'hello thieves welcome to python week'\n",
    "\n",
    "print(greeting.title())\n",
    "\n",
    "print(greeting.upper())\n",
    "\n",
    "print(greeting.lower())\n"
   ]
  },
  {
   "cell_type": "markdown",
   "metadata": {},
   "source": [
    "### String Exercise <br>\n",
    "<p>Strip all white space and capitalize every name in the list given</p>"
   ]
  },
  {
   "cell_type": "code",
   "execution_count": null,
   "metadata": {},
   "outputs": [],
   "source": [
    "names = ['    coNNor', 'max', ' EVan ', 'JORDAN']\n",
    "# HINT: You will need to use a for loop for iteration\n",
    "\n"
   ]
  },
  {
   "cell_type": "markdown",
   "metadata": {},
   "source": [
    "### Working With Lists"
   ]
  },
  {
   "attachments": {},
   "cell_type": "markdown",
   "metadata": {},
   "source": [
    "##### min() - returns the item with the lowest value, or the item with the lowest value in an iterable."
   ]
  },
  {
   "cell_type": "code",
   "execution_count": 14,
   "metadata": {},
   "outputs": [
    {
     "name": "stdout",
     "output_type": "stream",
     "text": [
      "-23\n"
     ]
    }
   ],
   "source": [
    "# min(list)\n",
    "\n",
    "nums = [1,24,56,-23,18,107]\n",
    "\n",
    "print(min(nums))"
   ]
  },
  {
   "attachments": {},
   "cell_type": "markdown",
   "metadata": {},
   "source": [
    "##### max() - returns the item with the highest value, or the item with the highest value in an iterable."
   ]
  },
  {
   "cell_type": "code",
   "execution_count": 19,
   "metadata": {},
   "outputs": [
    {
     "name": "stdout",
     "output_type": "stream",
     "text": [
      "107\n",
      "Cylan\n"
     ]
    }
   ],
   "source": [
    "# max(list)\n",
    "nums = [1,24,56,-23,18,107, -24.7]\n",
    "\n",
    "print(max(nums))\n",
    "\n",
    "names = ['Dylan', 'Cylan' ,'Sylan']\n",
    "\n",
    "print(min(names))\n"
   ]
  },
  {
   "attachments": {},
   "cell_type": "markdown",
   "metadata": {},
   "source": [
    "##### sum() - returns a number, the sum of all items in an iterable."
   ]
  },
  {
   "cell_type": "code",
   "execution_count": 20,
   "metadata": {},
   "outputs": [
    {
     "name": "stdout",
     "output_type": "stream",
     "text": [
      "158.3\n"
     ]
    }
   ],
   "source": [
    "# sum(list)\n",
    "nums = [1,24,56,-23,18,107, -24.7]\n",
    "\n",
    "total = sum(nums)\n",
    "print(total)\n"
   ]
  },
  {
   "attachments": {},
   "cell_type": "markdown",
   "metadata": {},
   "source": [
    "##### sorted() - returns a sorted list of the specified iterable object."
   ]
  },
  {
   "cell_type": "code",
   "execution_count": 25,
   "metadata": {},
   "outputs": [
    {
     "name": "stdout",
     "output_type": "stream",
     "text": [
      "[-24.7, -23, 1, 18, 24, 56, 107]\n",
      "[1, 24, 56, -23, 18, 107, -24.7]\n"
     ]
    }
   ],
   "source": [
    "# sorted(list)\n",
    "# sorted does not effect the original list, it returns a copy\n",
    "# can pass argument to reverse sorted order\n",
    "nums = [1,24,56,-23,18,107, -24.7]\n",
    "\n",
    "sorted_nums = sorted(nums, reverse=False)\n",
    "\n",
    "print(sorted_nums)\n",
    "\n",
    "print(nums)\n"
   ]
  },
  {
   "cell_type": "markdown",
   "metadata": {},
   "source": [
    "##### .sort() <br>\n",
    "<p>Difference between sort and sorted, is that sorted doesn't change original list it returns a copy, while .sort changes the original list</p>"
   ]
  },
  {
   "cell_type": "code",
   "execution_count": 27,
   "metadata": {},
   "outputs": [
    {
     "name": "stdout",
     "output_type": "stream",
     "text": [
      "[-24.7, -23, 1, 18, 24, 56, 107]\n",
      "None\n"
     ]
    }
   ],
   "source": [
    "# list.sort()\n",
    "# use sorted when you don't want to alter original list, use .sort() when you want to alter original list\n",
    "\n",
    "nums = [1,24,56,-23,18,107, -24.7]\n",
    "\n",
    "sorted_nums = nums.sort()\n",
    "\n",
    "print(nums)\n",
    "print(sorted_nums)"
   ]
  },
  {
   "cell_type": "markdown",
   "metadata": {},
   "source": [
    "##### Copying a List"
   ]
  },
  {
   "cell_type": "code",
   "execution_count": 36,
   "metadata": {},
   "outputs": [
    {
     "name": "stdout",
     "output_type": "stream",
     "text": [
      "[1, 24, 56, -23, 18, 107]\n",
      "[1, 24, 56, -23, 18, 107, -24.7]\n",
      "[1, 24, 56, -23, 18, 107]\n",
      "[1, 24, 56, -23, 18, 107, -24.7]\n"
     ]
    }
   ],
   "source": [
    "# [:] copies a list, doesn't alter original\n",
    "# .copy() method\n",
    "nums = [1,24,56,-23,18,107, -24.7]\n",
    "# new_nums = nums\n",
    "\n",
    "# new_nums.pop()\n",
    "# print(new_nums)\n",
    "# print(nums)\n",
    "\n",
    "new_nums = nums.copy()\n",
    "\n",
    "new_nums.pop()\n",
    "print(new_nums)\n",
    "print(nums)\n",
    "\n",
    "nums = [1,24,56,-23,18,107, -24.7]\n",
    "\n",
    "new_nums = nums[:]\n",
    "\n",
    "new_nums.pop()\n",
    "print(new_nums)\n",
    "print(nums)\n"
   ]
  },
  {
   "cell_type": "markdown",
   "metadata": {},
   "source": [
    "#### Slicing"
   ]
  },
  {
   "cell_type": "code",
   "execution_count": 38,
   "metadata": {},
   "outputs": [
    {
     "name": "stdout",
     "output_type": "stream",
     "text": [
      "[1, 24, 56, -23]\n",
      "[18, 107, -24.7]\n"
     ]
    }
   ],
   "source": [
    "nums = [1,24,56,-23,18,107, -24.7]\n",
    "\n",
    "first_couple = nums[:4]\n",
    "\n",
    "print(first_couple)\n",
    "\n",
    "last_couple = nums[4:]\n",
    "print(last_couple)"
   ]
  },
  {
   "cell_type": "markdown",
   "metadata": {},
   "source": [
    "##### Checking an Empty List"
   ]
  },
  {
   "cell_type": "code",
   "execution_count": 46,
   "metadata": {},
   "outputs": [
    {
     "name": "stdout",
     "output_type": "stream",
     "text": [
      "Nothing here\n"
     ]
    }
   ],
   "source": [
    "# if list1: or if list1 == []:\n",
    "\n",
    "nums=0\n",
    "\n",
    "if nums:\n",
    "    print('We have stuff in the list')\n",
    "else:\n",
    "    print('Nothing here')\n"
   ]
  },
  {
   "cell_type": "markdown",
   "metadata": {},
   "source": [
    "##### Removing Instances with a Loop"
   ]
  },
  {
   "cell_type": "code",
   "execution_count": 53,
   "metadata": {},
   "outputs": [
    {
     "name": "stdout",
     "output_type": "stream",
     "text": [
      "['pepperoni', 'cheese', 'sausage', 'tomatos', 'pineapple', 'pineapple', 'pineapple', 'mushrooms']\n",
      "['pepperoni', 'cheese', 'sausage', 'tomatos', 'mushrooms']\n"
     ]
    }
   ],
   "source": [
    "# while & for, remove\n",
    "toppings = ['pepperoni', 'cheese', 'sausage', 'tomatos', 'pineapple','pineapple', 'pineapple', 'mushrooms']\n",
    "\n",
    "# toppings.remove('pineapple')\n",
    "# toppings.remove('pineapple')\n",
    "# toppings.remove('pineapple')\n",
    "print(toppings)\n",
    "\n",
    "# for topping in toppings:\n",
    "#     print(toppings)\n",
    "#     print(f'Is {topping} a pineapple')\n",
    "#     if topping == 'pineapple':\n",
    "#         print('remove this pineapple')\n",
    "#         toppings.remove('pineapple')\n",
    "\n",
    "\n",
    "while 'pineapple' in toppings:\n",
    "    toppings.remove('pineapple')\n",
    "\n",
    "\n",
    "print(toppings)"
   ]
  },
  {
   "cell_type": "markdown",
   "metadata": {},
   "source": [
    "### List Exercise <br>\n",
    "<p>Remove all duplicates<br><b>Extra: Create a program that will remove any duplicates from a given list</b></p>"
   ]
  },
  {
   "cell_type": "code",
   "execution_count": null,
   "metadata": {},
   "outputs": [],
   "source": [
    "names = ['connor', 'connor', 'bob', 'connor', 'evan', 'max', 'evan', 2, 2, 2, 3, 3, 4, 'bob', 'kevin']\n",
    "# Hint 1: You will need an append\n",
    "# Hint 2: Using an empty list will make life easier\n",
    "\n",
    "\n"
   ]
  },
  {
   "attachments": {},
   "cell_type": "markdown",
   "metadata": {},
   "source": [
    "#### List Comprehension - offers a shorter syntax when you want to create a new list based on the values of an existing list."
   ]
  },
  {
   "attachments": {},
   "cell_type": "markdown",
   "metadata": {},
   "source": [
    "#### Syntax - newlist = [expression for item in iterable if condition == True]\n",
    "##### The return value is a new list, leaving the old list unchanged.\n",
    "##### The condition is like a filter that only accepts the items that valuate to True."
   ]
  },
  {
   "cell_type": "code",
   "execution_count": 57,
   "metadata": {},
   "outputs": [
    {
     "name": "stdout",
     "output_type": "stream",
     "text": [
      "[0, 2, 4, 6, 8, 10]\n",
      "[0, 'odd', 2, 'odd', 4, 'odd', 6, 'odd', 8, 'odd', 10]\n"
     ]
    }
   ],
   "source": [
    "# number list comprehension\n",
    "\n",
    "# With a regular for loop\n",
    "evens = []\n",
    "for num in range(11):\n",
    "    if num % 2 == 0:\n",
    "        evens.append(num)\n",
    "\n",
    "print(evens)\n",
    "# List Comprehension\n",
    "\n",
    "#newlist = [appended element for element in iterable (if condition)]\n",
    "\n",
    "\n",
    "evens = [num for num in range(11) if num % 2 == 0]\n",
    "\n",
    "print(evens)\n"
   ]
  },
  {
   "attachments": {},
   "cell_type": "markdown",
   "metadata": {},
   "source": [
    "There are a few benefits to using List comprehensions. The most obvious would be that we now have shorter code to work with instead of using 3+ lines of code in the for loop variant.\n",
    "\n",
    "More time-efficient and space-efficient than loops.\n",
    "\n",
    "Lastly, list comprehensions are considered the \"pythonic\" way to write code."
   ]
  },
  {
   "cell_type": "code",
   "execution_count": 59,
   "metadata": {},
   "outputs": [
    {
     "name": "stdout",
     "output_type": "stream",
     "text": [
      "[0, 1, 4, 9, 16, 25, 36, 49, 64, 81]\n",
      "[0, 1, 4, 9, 16, 25, 36, 49, 64, 81]\n"
     ]
    }
   ],
   "source": [
    "# square number list comprehension\n",
    "\n",
    "square = []\n",
    "\n",
    "for num in range(10):\n",
    "    square.append(num**2)\n",
    "\n",
    "print(square)\n",
    "\n",
    "square = [num**2 for num in range(10)]\n",
    "\n",
    "print(square)"
   ]
  },
  {
   "cell_type": "code",
   "execution_count": 61,
   "metadata": {},
   "outputs": [
    {
     "name": "stdout",
     "output_type": "stream",
     "text": [
      "['Michael', 'Regina', 'Tommy', 'Tez']\n",
      "['Michael', 'Regina', 'Tommy', 'Tez']\n"
     ]
    }
   ],
   "source": [
    "# string list comprehension\n",
    "\n",
    "names = ['michael','regina','tommy','tez']\n",
    "\n",
    "cap_names = []\n",
    "for name in names:\n",
    "    cap_names.append(name.capitalize())\n",
    "\n",
    "print(cap_names)\n",
    "\n",
    "\n",
    "cap_names = [name.capitalize() for name in names]\n",
    "\n",
    "print(cap_names)\n",
    "\n"
   ]
  },
  {
   "cell_type": "markdown",
   "metadata": {},
   "source": [
    "#### .join()"
   ]
  },
  {
   "cell_type": "code",
   "execution_count": 66,
   "metadata": {},
   "outputs": [
    {
     "name": "stdout",
     "output_type": "stream",
     "text": [
      "['Michael', 'Regina', 'Tommy', 'Tez']\n",
      "Michael Regina Tommy Tez\n"
     ]
    }
   ],
   "source": [
    "names = ['michael','regina','tommy','tez']\n",
    "\n",
    "cap_names = [name.capitalize() for name in names]\n",
    "\n",
    "print(cap_names)\n",
    "\n",
    "str_cap_names = ' '.join(cap_names)\n",
    "\n",
    "print(str_cap_names)\n",
    "\n",
    "#split() LOOK IT UP"
   ]
  },
  {
   "attachments": {},
   "cell_type": "markdown",
   "metadata": {},
   "source": [
    "### Tuples - Collection which is ordered, unchangeable, and allow duplicate values."
   ]
  },
  {
   "cell_type": "code",
   "execution_count": 71,
   "metadata": {},
   "outputs": [
    {
     "name": "stdout",
     "output_type": "stream",
     "text": [
      "(972, 456, 789)\n"
     ]
    }
   ],
   "source": [
    "codes = (972,456,789)\n",
    "\n",
    "\n",
    "\n",
    "print(codes)"
   ]
  },
  {
   "cell_type": "markdown",
   "metadata": {},
   "source": [
    "##### sorted()"
   ]
  },
  {
   "cell_type": "code",
   "execution_count": 73,
   "metadata": {},
   "outputs": [
    {
     "name": "stdout",
     "output_type": "stream",
     "text": [
      "(456, 789, 972)\n"
     ]
    }
   ],
   "source": [
    "codes = (972,456,789)\n",
    "\n",
    "sorted_codes = sorted(codes)\n",
    "print(tuple(sorted_codes))\n"
   ]
  },
  {
   "cell_type": "markdown",
   "metadata": {},
   "source": [
    "##### Adding values to a Tuple"
   ]
  },
  {
   "cell_type": "code",
   "execution_count": 76,
   "metadata": {},
   "outputs": [
    {
     "name": "stdout",
     "output_type": "stream",
     "text": [
      "(972, 456, 789, 12, 10)\n"
     ]
    }
   ],
   "source": [
    "codes = (972,456,789)\n",
    "\n",
    "codes = codes + (12,)\n",
    "codes += (10,)\n",
    "\n",
    "print(codes)"
   ]
  },
  {
   "cell_type": "markdown",
   "metadata": {},
   "source": [
    "## Functions"
   ]
  },
  {
   "cell_type": "markdown",
   "metadata": {},
   "source": [
    "##### User-Defined vs. Built-In Functions"
   ]
  },
  {
   "cell_type": "code",
   "execution_count": 82,
   "metadata": {},
   "outputs": [
    {
     "name": "stdout",
     "output_type": "stream",
     "text": [
      "<function greet at 0x00000169C5EEB4C0>\n",
      "Hello There!\n"
     ]
    }
   ],
   "source": [
    "#User-defined\n",
    "def greet():\n",
    "    return 'Hello There!'\n",
    "\n",
    "#Built-In print, showing the function in memory\n",
    "\n",
    "print(greet)\n",
    "\n",
    "#Built_in print, calling the function\n",
    "\n",
    "hello = greet()\n",
    "\n",
    "print(hello)\n",
    "\n",
    "x = 2"
   ]
  },
  {
   "cell_type": "markdown",
   "metadata": {},
   "source": [
    "##### Accepting Parameters"
   ]
  },
  {
   "cell_type": "code",
   "execution_count": 93,
   "metadata": {},
   "outputs": [
    {
     "name": "stdout",
     "output_type": "stream",
     "text": [
      "Katina Dylan\n",
      "Sachs Christian\n",
      "Assefa Rahel\n"
     ]
    }
   ],
   "source": [
    "# Order matters\n",
    "# A variable can be of any type of object\n",
    "\n",
    "def full_name(last, first):\n",
    "    full = first + ' ' + last\n",
    "    return full\n",
    "\n",
    "print(full_name('Dylan', 'Katina'))\n",
    "print(full_name('Christian', 'Sachs'))\n",
    "print(full_name('Rahel', 'Assefa'))"
   ]
  },
  {
   "cell_type": "markdown",
   "metadata": {},
   "source": [
    "##### Default Parameters"
   ]
  },
  {
   "cell_type": "code",
   "execution_count": 88,
   "metadata": {},
   "outputs": [
    {
     "name": "stdout",
     "output_type": "stream",
     "text": [
      "This cohort, Thieves, is taught by Christian and Dylan.\n"
     ]
    }
   ],
   "source": [
    "# default parameters need to be AFTER non-default parameters at all times\n",
    "\n",
    "def class_info(ins_1, ins_2, cohort='Thieves'):\n",
    "    return f'This cohort, {cohort}, is taught by {ins_1} and {ins_2}.'\n",
    "\n",
    "print(class_info('Christian','Dylan'))"
   ]
  },
  {
   "cell_type": "markdown",
   "metadata": {},
   "source": [
    "##### Making an Argument Optional"
   ]
  },
  {
   "cell_type": "code",
   "execution_count": 96,
   "metadata": {},
   "outputs": [
    {
     "name": "stdout",
     "output_type": "stream",
     "text": [
      "Introducing Christian Sachs!\n"
     ]
    }
   ],
   "source": [
    "def nickname(first, last, nickname=''):\n",
    "    if nickname:\n",
    "       return f'Introducing {first} {nickname} {last}!'\n",
    "    else:\n",
    "        return f'Introducing {first} {last}!'\n",
    "\n",
    "print(nickname('Christian', 'Sachs'))"
   ]
  },
  {
   "cell_type": "markdown",
   "metadata": {},
   "source": [
    "# Creating a start, stop, step function"
   ]
  },
  {
   "cell_type": "code",
   "execution_count": 105,
   "metadata": {},
   "outputs": [
    {
     "name": "stdout",
     "output_type": "stream",
     "text": [
      "[0, 2, 4, 6, 8]\n"
     ]
    }
   ],
   "source": [
    "\n",
    "\n",
    "\n",
    "def my_range(stop, start=0, step=1):\n",
    "    output = []\n",
    "    while start < stop:\n",
    "        output.append(start)\n",
    "        start += step\n",
    "    return output\n",
    "\n",
    "print(my_range(10, 0, 2))"
   ]
  },
  {
   "cell_type": "markdown",
   "metadata": {},
   "source": [
    "##### Returning Values"
   ]
  },
  {
   "cell_type": "code",
   "execution_count": null,
   "metadata": {},
   "outputs": [],
   "source": [
    "# when returning a value it ends the function\n"
   ]
  },
  {
   "attachments": {},
   "cell_type": "markdown",
   "metadata": {},
   "source": [
    "##### *args/**kwargs (A.K.A. KeyWord Arguments)##### *args"
   ]
  },
  {
   "cell_type": "code",
   "execution_count": 108,
   "metadata": {},
   "outputs": [
    {
     "name": "stdout",
     "output_type": "stream",
     "text": [
      "This class will be taught by Christian and Dylan\n",
      "('Tez', 'Sabit', 'Dyllorian', 'Buhay', 'Edwin', 'Rahel', 'Marina')\n",
      "----------Students---------\n",
      "Tez\n",
      "Sabit\n",
      "Dyllorian\n",
      "Buhay\n",
      "Edwin\n",
      "Rahel\n",
      "Marina\n"
     ]
    }
   ],
   "source": [
    "# *args = unlimited amount of arguments, function stores as tuple\n",
    "# **kwargs = unlimited amount of keyword arguments, function stores as dictionary\n",
    "\n",
    "def thieves(ins1, ins2, *students):\n",
    "    print(f'This class will be taught by {ins1} and {ins2}')\n",
    "\n",
    "    print(students)\n",
    "\n",
    "    print('----------Students---------')\n",
    "    \n",
    "    for student in students:\n",
    "        print(student)\n",
    "\n",
    "thieves('Christian', 'Dylan', 'Tez', 'Sabit', 'Dyllorian','Buhay', 'Edwin','Rahel','Marina')"
   ]
  },
  {
   "cell_type": "markdown",
   "metadata": {},
   "source": [
    "#### **kwargs"
   ]
  },
  {
   "cell_type": "code",
   "execution_count": 112,
   "metadata": {},
   "outputs": [
    {
     "name": "stdout",
     "output_type": "stream",
     "text": [
      "Hi, I'm Christian, this is what I do in a day\n",
      "{'four_am': 'wakes up', 'four_thirty': 'completed 2000 sit ups', 'five': 'completed 2000000 push-ups', 'six': 'morning meditation', 'nine': 'texts Dylan goodmorning'}\n",
      "four_am: wakes up\n",
      "four_thirty: completed 2000 sit ups\n",
      "five: completed 2000000 push-ups\n",
      "six: morning meditation\n",
      "nine: texts Dylan goodmorning\n"
     ]
    }
   ],
   "source": [
    "\n",
    "def routine(person, **tasks):\n",
    "    print(f'Hi, I\\'m {person}, this is what I do in a day')\n",
    "\n",
    "    for key, value in tasks.items():\n",
    "        print(f'{key}: {value}')\n",
    "\n",
    "routine('Christian', four_am='wakes up', four_thirty='completed 2000 sit ups', five='completed 2000000 push-ups', six='morning meditation', nine='texts Dylan goodmorning')"
   ]
  },
  {
   "attachments": {},
   "cell_type": "markdown",
   "metadata": {},
   "source": [
    "##### Docstring - Multi-line Comment"
   ]
  },
  {
   "cell_type": "code",
   "execution_count": 115,
   "metadata": {},
   "outputs": [
    {
     "name": "stdout",
     "output_type": "stream",
     "text": [
      "Help on function pn in module __main__:\n",
      "\n",
      "pn(names_list)\n",
      "    This function takes in a list of names\n",
      "    and prints each name out for name in the\n",
      "    list\n",
      "\n"
     ]
    }
   ],
   "source": [
    "# Allows you to write documentation for user-defined functions\n",
    "\n",
    "def pn(names_list):\n",
    "\n",
    "    '''\n",
    "        This function takes in a list of names\n",
    "        and prints each name out for name in the\n",
    "        list\n",
    "    '''\n",
    "\n",
    "    for name in names_list:\n",
    "        print(name)\n",
    "\n",
    "\n",
    "help(pn)"
   ]
  },
  {
   "cell_type": "markdown",
   "metadata": {},
   "source": [
    "##### Using a User Function in a Loop"
   ]
  },
  {
   "cell_type": "code",
   "execution_count": 116,
   "metadata": {},
   "outputs": [
    {
     "name": "stdout",
     "output_type": "stream",
     "text": [
      "[28]\n"
     ]
    }
   ],
   "source": [
    "\n",
    "def check_even(num):\n",
    "    if num % 2 == 0:\n",
    "        return True\n",
    "    else:\n",
    "        return False\n",
    "    \n",
    "nums = [1,45,28,33,91,57]\n",
    "\n",
    "evens = []\n",
    "for num in nums:\n",
    "    if check_even(num):\n",
    "        evens.append(num)\n",
    "    \n",
    "print(evens)"
   ]
  },
  {
   "cell_type": "markdown",
   "metadata": {},
   "source": [
    "## Function Exercise <br>\n",
    "<p>Write a function that loops through a list of first_names and a list of last_names, combines the two and return a list of full_names</p>"
   ]
  },
  {
   "cell_type": "code",
   "execution_count": 120,
   "metadata": {},
   "outputs": [
    {
     "name": "stdout",
     "output_type": "stream",
     "text": [
      "['John Smith', 'Evan Smith', 'Jordan Williams', 'Max Bell']\n"
     ]
    }
   ],
   "source": [
    "first_names = ['John', 'Evan', 'Jordan', 'Max']\n",
    "last_names = ['Smith', 'Smith', 'Williams', 'Bell']\n",
    "\n",
    "# Output: ['John Smith', 'Evan Smith', 'Jordan Williams', 'Max Bell']\n",
    "\n",
    "#takes in two list one with first and one with lasts\n",
    "#return one list of full names\n",
    "\n",
    "def full_names(firsts, lasts):\n",
    "\n",
    "    full_names = []\n",
    "\n",
    "    for position in range(len(firsts)):\n",
    "        full_name = firsts[position] + ' ' + lasts[position]\n",
    "        full_names.append(full_name)\n",
    "    \n",
    "    return full_names\n",
    "\n",
    "print(full_names(first_names, last_names))\n"
   ]
  },
  {
   "attachments": {},
   "cell_type": "markdown",
   "metadata": {},
   "source": [
    "## Scope <br>\n",
    "<p>Scope refers to the ability to access variables, different types of scope include:<br>a) Global<br>b) Function (local)</p>"
   ]
  },
  {
   "cell_type": "code",
   "execution_count": 123,
   "metadata": {},
   "outputs": [
    {
     "name": "stdout",
     "output_type": "stream",
     "text": [
      "2\n"
     ]
    }
   ],
   "source": [
    "\n",
    "x = 3\n",
    "\n",
    "\n",
    "def my_num():\n",
    "    local_num = 2\n",
    "    print(local_num)\n",
    "\n",
    "\n",
    "\n",
    "my_num()\n",
    "\n",
    "\n",
    "\n"
   ]
  },
  {
   "cell_type": "markdown",
   "metadata": {},
   "source": [
    "# Exercises"
   ]
  },
  {
   "cell_type": "markdown",
   "metadata": {},
   "source": [
    "## Exercise 1 <br>\n",
    "<p>Given a list as a parameter,write a function that returns a list of numbers that are less than ten</b></i></p><br>\n",
    "<p> For example: Say your input parameter to the function is [1,11,14,5,8,9]...Your output should [1,5,8,9]</p>"
   ]
  },
  {
   "cell_type": "code",
   "execution_count": 4,
   "metadata": {},
   "outputs": [
    {
     "data": {
      "text/plain": [
       "[1, 5, 8, 9]"
      ]
     },
     "execution_count": 4,
     "metadata": {},
     "output_type": "execute_result"
    }
   ],
   "source": [
    "# Use the following list - [1,11,14,5,8,9]\n",
    "\n",
    "def below_10(num_list):\n",
    "\n",
    "    num_list= [num for num in num_list if (num < 10)]\n",
    "\n",
    "    return num_list\n",
    "\n",
    "#below_10([1.1,11,4, 14,5,81,9])\n",
    "below_10([1,11,14,5,8,9])\n",
    "\n"
   ]
  },
  {
   "cell_type": "markdown",
   "metadata": {},
   "source": [
    "## Exercise 2 <br>\n",
    "<p>Write a function that takes in two lists and returns the two lists merged together and sorted<br>\n",
    "<b><i>Hint: You can use the .sort() method</i></b></p>"
   ]
  },
  {
   "cell_type": "code",
   "execution_count": 6,
   "metadata": {},
   "outputs": [
    {
     "name": "stdout",
     "output_type": "stream",
     "text": [
      "[1, 2, 3, 3, 4, 4, 5, 5, 6, 6, 7, 8, 9, 10]\n"
     ]
    }
   ],
   "source": [
    "# l_1 = [1,2,3,4,5,6]\n",
    "# l_2 = [3,4,5,6,7,8,10]\n",
    "def list_merge(l_1, l_2):\n",
    "    merged_list=[]\n",
    "    merged_list=merged_list+l_1+l_2\n",
    "    print(sorted(merged_list))\n",
    "\n",
    "list_merge([1,2,3,4,5,6], [3,4,5,6,7,8,9,10])\n"
   ]
  }
 ],
 "metadata": {
  "kernelspec": {
   "display_name": "Python 3",
   "language": "python",
   "name": "python3"
  },
  "language_info": {
   "codemirror_mode": {
    "name": "ipython",
    "version": 3
   },
   "file_extension": ".py",
   "mimetype": "text/x-python",
   "name": "python",
   "nbconvert_exporter": "python",
   "pygments_lexer": "ipython3",
   "version": "3.11.7"
  },
  "vscode": {
   "interpreter": {
    "hash": "aa82987a71ca0339a52998cd22613b0c002bda8349fa32a0cb67ceec3936a2bf"
   }
  }
 },
 "nbformat": 4,
 "nbformat_minor": 2
}
